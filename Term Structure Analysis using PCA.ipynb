{
 "cells": [
  {
   "cell_type": "markdown",
   "id": "a2d7bd32",
   "metadata": {},
   "source": [
    "# Term Structure Analysis using PCA\n",
    "\n",
    "*by Andre Sealy*\n",
    "\n",
    "In statistics, dimensionality reduction is the transformation of data such that the number of variables is reduced by obtaining principal variables. It can be helpful in the further processing of the data using standard supervised or unsupervised machine learning algorithms, especially those that are dimensionality sensitive (e.g. k-nearest neighbours algorithm).\n",
    "\n",
    "**Principal Component Analysis (PCA)** is a classical method for dimensioin reduction. It uses the first several principal components, statistical features that explain most of the variation of a $m \\times n$ data matrix $X$, to describe the large-scale data matrix $X$ economically"
   ]
  },
  {
   "cell_type": "code",
   "execution_count": null,
   "id": "a42ec3c5",
   "metadata": {},
   "outputs": [],
   "source": []
  }
 ],
 "metadata": {
  "kernelspec": {
   "display_name": "Python 3 (ipykernel)",
   "language": "python",
   "name": "python3"
  },
  "language_info": {
   "codemirror_mode": {
    "name": "ipython",
    "version": 3
   },
   "file_extension": ".py",
   "mimetype": "text/x-python",
   "name": "python",
   "nbconvert_exporter": "python",
   "pygments_lexer": "ipython3",
   "version": "3.9.6"
  }
 },
 "nbformat": 4,
 "nbformat_minor": 5
}
